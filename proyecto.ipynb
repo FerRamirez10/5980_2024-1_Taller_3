{
 "cells": [
  {
   "cell_type": "markdown",
   "metadata": {},
   "source": [
    "# Ejercicio 2 \n",
    "La distancia de Hamming H dada en ecuación (1) es una medida del número de posiciones en las que los caracteres correspondientes difieren entre dos cadenas de igual longitud. La formula es la siguiente. H(a, b) =|a|∑i=1∆(a[i], b[i])\n",
    "Donde ∆ es una función que retorna 0 si los caracteres son idénticos y 1 en caso contrario.\n",
    "\n",
    "## 1.Escriba un método para calcular la distancia de Hamming entre dos secuencias.\n"
   ]
  },
  {
   "cell_type": "code",
   "execution_count": 6,
   "metadata": {},
   "outputs": [],
   "source": [
    "def hamming_distance(a, b):\n",
    "    if len(a) != len(b):\n",
    "        raise ValueError(\"Las cadenas deben tener la misma longitud\")\n",
    "    return sum(1 for x, y in zip(a, b) if x != y)"
   ]
  },
  {
   "cell_type": "markdown",
   "metadata": {},
   "source": [
    "## 2.Dé la complejidad en tiempo del algoritmo.\n",
    "La complejidad en tiempo del algoritmo es O(n) ya que se recorre la cadena de entrada y se compara cada caracter de la cadena con el caracter de la otra cadena en la misma posición."
   ]
  },
  {
   "cell_type": "markdown",
   "metadata": {},
   "source": [
    "## 3. ¿Cuál es el principal inconveniente del uso de esta distancia en el contexto de secuencias ADN?\n",
    "El principal inconveniente del uso de esta distancia en el contexto de secuencias ADN es que no toma en cuenta la relación entre los caracteres, es decir, no toma en cuenta que algunos caracteres son más parecidos entre sí que otros. Por ejemplo, la distancia de Hamming entre las cadenas \"ACGT\" y \"TGCA\" es 4, sin embargo, si se toma en cuenta que A y T son más parecidos entre sí que A y G, la distancia debería ser menor."
   ]
  },
  {
   "cell_type": "markdown",
   "metadata": {},
   "source": [
    "# EJERCICIO 3\n",
    "## 1. Escriba un algoritmo para descomponer enk-mers las secuencias de un fasta y guardarlas.\n"
   ]
  },
  {
   "cell_type": "code",
   "execution_count": null,
   "metadata": {},
   "outputs": [],
   "source": [
    "def "
   ]
  }
 ],
 "metadata": {
  "kernelspec": {
   "display_name": "Python 3",
   "language": "python",
   "name": "python3"
  },
  "language_info": {
   "codemirror_mode": {
    "name": "ipython",
    "version": 3
   },
   "file_extension": ".py",
   "mimetype": "text/x-python",
   "name": "python",
   "nbconvert_exporter": "python",
   "pygments_lexer": "ipython3",
   "version": "3.11.8"
  }
 },
 "nbformat": 4,
 "nbformat_minor": 2
}
