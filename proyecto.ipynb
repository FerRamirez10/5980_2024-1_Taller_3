{
 "cells": [
  {
   "cell_type": "markdown",
   "metadata": {},
   "source": [
    "## Ejercicio 2 \n",
    "La distancia de Hamming H dada en ecuación (1) es una medida del número de posiciones en las que los caracteres correspondientes difieren entre dos cadenas de igual longitud. La formula es la siguiente. H(a, b) =|a|∑i=1∆(a[i], b[i])\n",
    "Donde ∆ es una función que retorna 0 si los caracteres son idénticos y 1 en caso contrario.\n",
    "\n",
    "### 1.Escriba un método para calcular la distancia de Hamming entre dos secuencias."
   ]
  },
  {
   "cell_type": "code",
   "execution_count": 8,
   "metadata": {},
   "outputs": [],
   "source": [
    "def hamming_distance(a, b):\n",
    "    if len(a) != len(b):\n",
    "        raise ValueError(\"Las cadenas deben tener la misma longitud\")\n",
    "    return sum(1 for x, y in zip(a, b) if x != y)"
   ]
  },
  {
   "cell_type": "markdown",
   "metadata": {},
   "source": [
    "### 2.Dé la complejidad en tiempo del algoritmo.\n",
    "La complejidad en tiempo del algoritmo es O(n), donde n es la longitud de las cadenas a comparar.\n",
    "\n",
    "### 3. ¿Cuál es el principal inconveniente del uso de esta distancia en el contexto de secuencias ADN?\n",
    "El principal inconveniente del uso de esta distancia en el contexto de secuencias de ADN es que no toma en cuenta la relación entre los caracteres. Por ejemplo, si se tienen dos secuencias de ADN que difieren en una sola posición, pero la diferencia es entre dos bases nitrogenadas complementarias, la distancia de Hamming será 1, a pesar de que la diferencia sea mínima."
   ]
  },
  {
   "cell_type": "markdown",
   "metadata": {},
   "source": [
    "## EJERCICIO 3\n",
    "### 1. Escriba un algoritmo para descomponer enk-mers las secuencias de un fasta y guardarlas.\n"
   ]
  },
  {
   "cell_type": "code",
   "execution_count": 9,
   "metadata": {},
   "outputs": [],
   "source": [
    "def descompone_fasta(fasta, k):\n",
    "    with open(fasta) as f:\n",
    "        seq = \"\"\n",
    "        for line in f:\n",
    "            if line.startswith(\">\"):\n",
    "                if seq:\n",
    "                    for i in range(len(seq) - k + 1):\n",
    "                        print(seq[i:i + k])\n",
    "                seq = \"\"\n",
    "            else:\n",
    "                seq += line.strip()\n",
    "        if seq:\n",
    "            for i in range(len(seq) - k + 1):\n",
    "                print(seq[i:i + k])"
   ]
  },
  {
   "cell_type": "markdown",
   "metadata": {},
   "source": [
    "### 2. ¿Cuántos k-mers se generan por una secuencia de longitud|S|?\n",
    "|S| - k + 1 porque se generan todas las subcadenas de longitud k\n",
    "\n",
    "\n",
    "### 3. ¿Cual es la complejidad en tiempo del algoritmo de descomposición en k-mers de una secuencia S dada ?\n",
    "O(|S|) porque se recorre la secuencia una vez"
   ]
  },
  {
   "cell_type": "markdown",
   "metadata": {},
   "source": [
    "## EJERCICIO 4\n",
    " La similitud entre dos conjuntosAyBse calcula mediante el índice de JaccardJ. La fórmula se da en laecuación (2). En el contexto de las secuencias de ADN, para determinar la similitud genética utilizamos losk-mers de las especies.\n",
    "\n",
    " ### 1. Escriba un método para calcular el índice de Jaccard de dos listas A y B.\n"
   ]
  },
  {
   "cell_type": "code",
   "execution_count": 10,
   "metadata": {},
   "outputs": [],
   "source": [
    "def jaccard_index(a, b):\n",
    "    s1 = set(a)\n",
    "    s2 = set(b)\n",
    "    return len(s1.intersection(s2)) / len(s1.union(s2))"
   ]
  },
  {
   "cell_type": "markdown",
   "metadata": {},
   "source": [
    "### 2. Escriba el método que, dados dos conjuntos dek-mers, calcula el índice de Jaccard asociado."
   ]
  },
  {
   "cell_type": "code",
   "execution_count": 11,
   "metadata": {},
   "outputs": [],
   "source": [
    "def jaccard_index_kmers(a, b):\n",
    "    return len(a.intersection(b)) / len(a.union(b))"
   ]
  },
  {
   "cell_type": "markdown",
   "metadata": {},
   "source": [
    "### 3. Escriba un método que, dado un conjunto de fasta, retorna la similitud entre las secuencias como una matriz."
   ]
  },
  {
   "cell_type": "code",
   "execution_count": 12,
   "metadata": {},
   "outputs": [],
   "source": [
    "def similarity_matrix(fasta):\n",
    "    sequences = list(fasta.values())\n",
    "    kmers = [set(kmers_from_sequence(s, 3)) for s in sequences]\n",
    "    return [[jaccard_index_kmers(kmers[i], kmers[j]) for j in range(len(sequences))] for i in range(len(sequences))]"
   ]
  }
 ],
 "metadata": {
  "kernelspec": {
   "display_name": "Python 3",
   "language": "python",
   "name": "python3"
  },
  "language_info": {
   "codemirror_mode": {
    "name": "ipython",
    "version": 3
   },
   "file_extension": ".py",
   "mimetype": "text/x-python",
   "name": "python",
   "nbconvert_exporter": "python",
   "pygments_lexer": "ipython3",
   "version": "3.11.8"
  }
 },
 "nbformat": 4,
 "nbformat_minor": 2
}
